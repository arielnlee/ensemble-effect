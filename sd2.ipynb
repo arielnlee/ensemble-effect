{
 "cells": [
  {
   "cell_type": "code",
   "execution_count": null,
   "id": "3c1c44ef-3f76-4746-950c-7501f11b2ad6",
   "metadata": {},
   "outputs": [],
   "source": [
    "import os\n",
    "import pandas as pd\n",
    "import torch\n",
    "from diffusers import StableDiffusionPipeline\n",
    "from transformers import CLIPImageProcessor\n",
    "\n",
    "csv_path = \"midjourney_prompts_filtered.csv\"\n",
    "df = pd.read_csv(csv_path)\n",
    "\n",
    "pipe = StableDiffusionPipeline.from_pretrained(\"stabilityai/stable-diffusion-2-1\")\n",
    "device = torch.device(\"mps\")\n",
    "pipe.to(device)\n",
    "\n",
    "image_folder = \"generated_images\"\n",
    "os.makedirs(image_folder, exist_ok=True)\n",
    "\n",
    "image_paths = []\n",
    "\n",
    "for index, row in df.iterrows():\n",
    "    \n",
    "    if index > 30000:\n",
    "        break\n",
    "\n",
    "    prompt = row[\"text\"]\n",
    "\n",
    "    # generate images using the StableDiffusionPipeline\n",
    "    generator = torch.Generator(device=\"cpu\").manual_seed(0)  # Create generator on CPU\n",
    "    image = pipe(prompt, height=768, width=768, guidance_scale=7.5, num_inference_steps=50, generator=generator).images[0]\n",
    "\n",
    "    #image_tensor = image_processor(image, return_tensors=\"pt\").pixel_values\n",
    "    #image_tensor = image_tensor.squeeze(0)\n",
    "\n",
    "    image_path = os.path.join(image_folder, f\"{index}.png\")\n",
    "    image.save(image_path)\n",
    "    image_paths.append(image_path)\n",
    "\n",
    "df[\"image_path\"] = image_paths\n",
    "output_csv_path = \"prompts_with_images.csv\"\n",
    "df.to_csv(output_csv_path, index=False)"
   ]
  }
 ],
 "metadata": {
  "kernelspec": {
   "display_name": "Python 3 (ipykernel)",
   "language": "python",
   "name": "python3"
  },
  "language_info": {
   "codemirror_mode": {
    "name": "ipython",
    "version": 3
   },
   "file_extension": ".py",
   "mimetype": "text/x-python",
   "name": "python",
   "nbconvert_exporter": "python",
   "pygments_lexer": "ipython3",
   "version": "3.10.9"
  }
 },
 "nbformat": 4,
 "nbformat_minor": 5
}
