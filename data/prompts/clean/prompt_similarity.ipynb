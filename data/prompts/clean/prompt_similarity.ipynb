{
 "cells": [
  {
   "cell_type": "markdown",
   "id": "95744af4-efa6-4c33-88df-8766b592a8b7",
   "metadata": {},
   "source": [
    "## Filter prompts using sklearn sentence_transformers pytorch_cos_sim"
   ]
  },
  {
   "cell_type": "code",
   "execution_count": 1,
   "id": "9738937c-8867-4520-b092-5fa622054e7b",
   "metadata": {},
   "outputs": [],
   "source": [
    "import pandas as pd\n",
    "import numpy as np\n",
    "from sentence_transformers import SentenceTransformer, util\n",
    "\n",
    "input_csv = \"midjourney_prompts_filtered.csv\"\n",
    "output_csv = \"filtered_prompts.csv\"\n",
    "\n",
    "df = pd.read_csv(input_csv)\n",
    "prompts = df.iloc[:, 0].tolist()\n",
    "\n",
    "model = SentenceTransformer(\"all-MiniLM-L6-v2\")\n",
    "embeddings = model.encode(prompts)\n",
    "\n",
    "similarity_matrix = util.pytorch_cos_sim(embeddings, embeddings).numpy()\n",
    "\n",
    "similar_prompts = np.zeros(len(prompts), dtype=bool)\n",
    "\n",
    "mask = np.eye(len(prompts), dtype=bool)\n",
    "\n",
    "for i, prompt in enumerate(prompts):\n",
    "    similar_indices = np.where((similarity_matrix[i] > 0.8) & ~mask[i])[0]\n",
    "\n",
    "    if similar_indices.size > 0:\n",
    "        similar_prompts[similar_indices] = True\n",
    "\n",
    "not_similar_prompts = ~similar_prompts\n",
    "\n",
    "filtered_prompts = np.array(prompts)[not_similar_prompts]\n",
    "\n",
    "filtered_prompts_df = pd.DataFrame(filtered_prompts, columns=[df.columns[0]])\n",
    "filtered_prompts_df.to_csv(output_csv, index=False)\n"
   ]
  },
  {
   "cell_type": "code",
   "execution_count": null,
   "id": "a7273cf8-db1f-4673-ab67-3b5f895fea69",
   "metadata": {},
   "outputs": [],
   "source": []
  }
 ],
 "metadata": {
  "kernelspec": {
   "display_name": "Python 3 (ipykernel)",
   "language": "python",
   "name": "python3"
  },
  "language_info": {
   "codemirror_mode": {
    "name": "ipython",
    "version": 3
   },
   "file_extension": ".py",
   "mimetype": "text/x-python",
   "name": "python",
   "nbconvert_exporter": "python",
   "pygments_lexer": "ipython3",
   "version": "3.10.9"
  }
 },
 "nbformat": 4,
 "nbformat_minor": 5
}
