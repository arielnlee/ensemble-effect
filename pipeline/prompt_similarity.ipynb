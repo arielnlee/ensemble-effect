{
 "cells": [
  {
   "cell_type": "markdown",
   "id": "f21ef4dd-4684-492c-b98c-44309f949c2e",
   "metadata": {},
   "source": [
    "## KNN"
   ]
  },
  {
   "cell_type": "code",
   "execution_count": null,
   "id": "0f29c3cb-0ef6-4396-bdab-7fdac6816207",
   "metadata": {},
   "outputs": [],
   "source": [
    "import pandas as pd\n",
    "import numpy as np\n",
    "from sentence_transformers import SentenceTransformer, util\n",
    "from sklearn.neighbors import NearestNeighbors\n",
    "import torch\n",
    "\n",
    "input_csv = \"midjourney_prompts.csv\"\n",
    "output_csv = \"filtered_prompts.csv\"\n",
    "\n",
    "device = torch.device(\"cuda\" if torch.cuda.is_available() else \"cpu\")\n",
    "\n",
    "df = pd.read_csv(input_csv)\n",
    "prompts = df.iloc[:, 0].tolist()\n",
    "\n",
    "model = SentenceTransformer(\"all-MiniLM-L6-v2\").to(device)\n",
    "embeddings = model.encode(prompts)\n",
    "\n",
    "knn_model = NearestNeighbors(n_neighbors=2, metric='cosine', algorithm='auto', n_jobs=-1)\n",
    "knn_model.fit(embeddings)\n",
    "\n",
    "# Find the nearest neighbors for each point\n",
    "distances, _ = knn_model.kneighbors(embeddings)\n",
    "\n",
    "not_similar_prompts = distances[:, 1] > 0.9\n",
    "\n",
    "filtered_prompts = np.array(prompts)[not_similar_prompts]\n",
    "\n",
    "filtered_prompts_df = pd.DataFrame(filtered_prompts, columns=[df.columns[0]])\n",
    "filtered_prompts_df.to_csv(output_csv, index=False)"
   ]
  },
  {
   "cell_type": "markdown",
   "id": "f751b51c-70e7-4f53-b752-fc6cdcae79eb",
   "metadata": {},
   "source": [
    "## FAISS KNN (FASTER)"
   ]
  },
  {
   "cell_type": "code",
   "execution_count": null,
   "id": "968c8e8f-d637-4220-b1b7-2887ade36bfa",
   "metadata": {},
   "outputs": [],
   "source": [
    "import pandas as pd\n",
    "import numpy as np\n",
    "from sentence_transformers import SentenceTransformer\n",
    "import torch\n",
    "import faiss # FAISS-GPU BEST\n",
    "\n",
    "input_csv = \"midjourney_prompts.csv\"\n",
    "output_csv = \"filtered_image_data2.csv\"\n",
    "threshold = 0.1\n",
    "\n",
    "df = pd.read_csv(input_csv)\n",
    "prompts = df['text'].tolist()\n",
    "\n",
    "device = torch.device(\"cuda\" if torch.cuda.is_available() else \"cpu\")\n",
    "\n",
    "model = SentenceTransformer(\"all-MiniLM-L6-v2\").to(device)\n",
    "\n",
    "embeddings = model.encode(prompts)\n",
    "embeddings = np.array(embeddings) # for Faiss\n",
    "\n",
    "index = faiss.IndexFlatL2(embeddings.shape[1])\n",
    "index.add(embeddings)\n",
    "\n",
    "# search the nearest neighbors\n",
    "distances, neighbors = index.search(embeddings, 2)\n",
    "\n",
    "# Check if the distance to the nearest neighbor (excluding itself) is greater than the threshold\n",
    "not_sim_prompts = (1 - distances[:, 1]) > threshold\n",
    "\n",
    "filtered_image_data = df.loc[not_sim_prompts]\n",
    "\n",
    "filtered_image_data.to_csv(output_csv, index=False)"
   ]
  },
  {
   "cell_type": "markdown",
   "id": "04919f51-cfd2-4a2b-baf8-6dcbf9daa83e",
   "metadata": {},
   "source": [
    "## SKLEARN (SLOWER) -- USE WITH CUDA"
   ]
  },
  {
   "cell_type": "code",
   "execution_count": null,
   "id": "2ccbb29d-a066-4d18-a12c-ce7d4c8b7cf0",
   "metadata": {},
   "outputs": [],
   "source": [
    "import pandas as pd\n",
    "import torch\n",
    "import numpy as np\n",
    "from sentence_transformers import SentenceTransformer\n",
    "from sklearn.metrics.pairwise import cosine_similarity\n",
    "\n",
    "device = torch.device(\"cuda\" if torch.cuda.is_available() else \"cpu\")\n",
    "\n",
    "df = pd.read_csv('midjourney_prompts.csv')\n",
    "\n",
    "model = SentenceTransformer('all-MiniLM-L6-v2').to(device)\n",
    "\n",
    "prompts = df['text'].tolist()\n",
    "embeddings = model.encode(prompts)\n",
    "\n",
    "cosine_sim_matrix = cosine_similarity(embeddings)\n",
    "\n",
    "np.fill_diagonal(cosine_sim_matrix, 0)\n",
    "\n",
    "filtered_indices = set()\n",
    "for i in range(len(prompts)):\n",
    "    for j in range(i+1, len(prompts)):\n",
    "        if cosine_sim_matrix[i][j] >= 0.9:\n",
    "            filtered_indices.add(j)\n",
    "\n",
    "filtered_df = df.loc[~df.index.isin(filtered_indices)]\n",
    "\n",
    "filtered_df.to_csv('filtered_midjourney.csv', index=False)"
   ]
  },
  {
   "cell_type": "code",
   "execution_count": null,
   "id": "d3643518-b804-4ae4-92d0-884d679b3bc9",
   "metadata": {},
   "outputs": [],
   "source": []
  }
 ],
 "metadata": {
  "kernelspec": {
   "display_name": "Python 3 (ipykernel)",
   "language": "python",
   "name": "python3"
  },
  "language_info": {
   "codemirror_mode": {
    "name": "ipython",
    "version": 3
   },
   "file_extension": ".py",
   "mimetype": "text/x-python",
   "name": "python",
   "nbconvert_exporter": "python",
   "pygments_lexer": "ipython3",
   "version": "3.10.9"
  }
 },
 "nbformat": 4,
 "nbformat_minor": 5
}
